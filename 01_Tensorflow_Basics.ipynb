{
  "nbformat": 4,
  "nbformat_minor": 0,
  "metadata": {
    "kernelspec": {
      "display_name": "Python 3",
      "language": "python",
      "name": "python3"
    },
    "language_info": {
      "codemirror_mode": {
        "name": "ipython",
        "version": 3
      },
      "file_extension": ".py",
      "mimetype": "text/x-python",
      "name": "python",
      "nbconvert_exporter": "python",
      "pygments_lexer": "ipython3",
      "version": "3.5.6"
    },
    "colab": {
      "name": "01-Tensorflow Basics.ipynb",
      "provenance": [],
      "include_colab_link": true
    }
  },
  "cells": [
    {
      "cell_type": "markdown",
      "metadata": {
        "id": "view-in-github",
        "colab_type": "text"
      },
      "source": [
        "<a href=\"https://colab.research.google.com/github/jahedcse555/Calculator_UI/blob/main/01_Tensorflow_Basics.ipynb\" target=\"_parent\"><img src=\"https://colab.research.google.com/assets/colab-badge.svg\" alt=\"Open In Colab\"/></a>"
      ]
    },
    {
      "cell_type": "markdown",
      "metadata": {
        "id": "VmGgFT3Qp5k_"
      },
      "source": [
        "___\n",
        "\n",
        "<a href='http://www.pieriandata.com'> <img src='../Pierian_Data_Logo.png' /></a>\n",
        "___\n",
        "# TensorFlow Basics\n",
        "\n",
        "Remember to reference the video for full explanations, this is just a notebook for code reference.\n",
        "\n",
        "You can import the library:"
      ]
    },
    {
      "cell_type": "code",
      "metadata": {
        "id": "sPVxb21Xp5lE"
      },
      "source": [
        "\n",
        "\n"
      ],
      "execution_count": null,
      "outputs": []
    },
    {
      "cell_type": "code",
      "metadata": {
        "id": "3uCHMKvRp5lG"
      },
      "source": [
        "import tensorflow as tf\n"
      ],
      "execution_count": 1,
      "outputs": []
    },
    {
      "cell_type": "code",
      "metadata": {
        "colab": {
          "base_uri": "https://localhost:8080/"
        },
        "id": "XCfKnVRfp5lG",
        "outputId": "b4921865-1767-4f5b-9593-5530c8f96e5b"
      },
      "source": [
        "print(tf.__version__)"
      ],
      "execution_count": 2,
      "outputs": [
        {
          "output_type": "stream",
          "name": "stdout",
          "text": [
            "2.6.0\n"
          ]
        }
      ]
    },
    {
      "cell_type": "markdown",
      "metadata": {
        "id": "JEVOu4sDp5lI"
      },
      "source": [
        "### Simple Constants\n",
        "\n",
        "Let's show how to create a simple constant with Tensorflow, which TF stores as a tensor object:"
      ]
    },
    {
      "cell_type": "code",
      "metadata": {
        "id": "2CGYLbTtp5lI"
      },
      "source": [
        "hello = tf.constant('Hello World')"
      ],
      "execution_count": null,
      "outputs": []
    },
    {
      "cell_type": "code",
      "metadata": {
        "id": "wKw8SIQVp5lJ",
        "outputId": "6484f5f8-3a26-4406-c808-2302791222b2"
      },
      "source": [
        "type(hello)"
      ],
      "execution_count": null,
      "outputs": [
        {
          "data": {
            "text/plain": [
              "tensorflow.python.framework.ops.Tensor"
            ]
          },
          "execution_count": 5,
          "metadata": {},
          "output_type": "execute_result"
        }
      ]
    },
    {
      "cell_type": "code",
      "metadata": {
        "id": "UzCrMmOfp5lJ"
      },
      "source": [
        "x = tf.constant(100)"
      ],
      "execution_count": null,
      "outputs": []
    },
    {
      "cell_type": "code",
      "metadata": {
        "id": "GvkdTtYTp5lK",
        "outputId": "d1b41e51-499e-4955-b5ba-ea0646e619fa"
      },
      "source": [
        "type(x)"
      ],
      "execution_count": null,
      "outputs": [
        {
          "data": {
            "text/plain": [
              "tensorflow.python.framework.ops.Tensor"
            ]
          },
          "execution_count": 7,
          "metadata": {},
          "output_type": "execute_result"
        }
      ]
    },
    {
      "cell_type": "markdown",
      "metadata": {
        "id": "RRb59oylp5lL"
      },
      "source": [
        "### Running Sessions\n",
        "\n",
        "Now you can create a TensorFlow Session, which is a class for running TensorFlow operations.\n",
        "\n",
        "A `Session` object encapsulates the environment in which `Operation`\n",
        "objects are executed, and `Tensor` objects are evaluated. For example:"
      ]
    },
    {
      "cell_type": "code",
      "metadata": {
        "id": "qRWBMw7Cp5lM"
      },
      "source": [
        "sess = tf.Session()"
      ],
      "execution_count": null,
      "outputs": []
    },
    {
      "cell_type": "code",
      "metadata": {
        "id": "E-u7bS6Wp5lN",
        "outputId": "4b9ea150-94da-4c63-be5f-a62b4583baae"
      },
      "source": [
        "sess.run(hello)"
      ],
      "execution_count": null,
      "outputs": [
        {
          "data": {
            "text/plain": [
              "b'Hello World'"
            ]
          },
          "execution_count": 9,
          "metadata": {},
          "output_type": "execute_result"
        }
      ]
    },
    {
      "cell_type": "code",
      "metadata": {
        "id": "xK3ycvnGp5lO",
        "outputId": "b646904f-28ba-42ac-81c8-f47156b5c32f"
      },
      "source": [
        "type(sess.run(hello))"
      ],
      "execution_count": null,
      "outputs": [
        {
          "data": {
            "text/plain": [
              "bytes"
            ]
          },
          "execution_count": 10,
          "metadata": {},
          "output_type": "execute_result"
        }
      ]
    },
    {
      "cell_type": "code",
      "metadata": {
        "id": "9AiCK0O_p5lP",
        "outputId": "e51804df-e5a7-4120-c815-9c25bd94f9c5"
      },
      "source": [
        "sess.run(x)"
      ],
      "execution_count": null,
      "outputs": [
        {
          "data": {
            "text/plain": [
              "100"
            ]
          },
          "execution_count": 11,
          "metadata": {},
          "output_type": "execute_result"
        }
      ]
    },
    {
      "cell_type": "code",
      "metadata": {
        "id": "EMSYfXgFp5lP",
        "outputId": "cb43ba5c-19dd-4b33-af04-30fc3e90f96a"
      },
      "source": [
        "type(sess.run(x))"
      ],
      "execution_count": null,
      "outputs": [
        {
          "data": {
            "text/plain": [
              "numpy.int32"
            ]
          },
          "execution_count": 12,
          "metadata": {},
          "output_type": "execute_result"
        }
      ]
    },
    {
      "cell_type": "markdown",
      "metadata": {
        "id": "nQA9NKh5p5lQ"
      },
      "source": [
        "## Operations\n",
        "\n",
        "You can line up multiple Tensorflow operations in to be run during a session:"
      ]
    },
    {
      "cell_type": "code",
      "metadata": {
        "id": "lmqHdZQip5lQ"
      },
      "source": [
        "x = tf.constant(2)\n",
        "y = tf.constant(3)"
      ],
      "execution_count": null,
      "outputs": []
    },
    {
      "cell_type": "code",
      "metadata": {
        "id": "_fvYyfVHp5lR",
        "outputId": "9248d07e-9aee-4c0e-a1a4-0320eeac762c"
      },
      "source": [
        "with tf.Session() as sess:\n",
        "    print('Operations with Constants')\n",
        "    print('Addition',sess.run(x+y))\n",
        "    print('Subtraction',sess.run(x-y))\n",
        "    print('Multiplication',sess.run(x*y))\n",
        "    print('Division',sess.run(x/y))"
      ],
      "execution_count": null,
      "outputs": [
        {
          "name": "stdout",
          "output_type": "stream",
          "text": [
            "Operations with Constants\n",
            "Addition 5\n",
            "Subtraction -1\n",
            "Multiplication 6\n",
            "Division 0.6666666666666666\n"
          ]
        }
      ]
    },
    {
      "cell_type": "markdown",
      "metadata": {
        "id": "9jt7M0Sgp5lR"
      },
      "source": [
        "### Placeholder\n",
        "\n",
        "You may not always have the constants right away, and you may be waiting for a constant to appear after a cycle of operations. **tf.placeholder** is a tool for this. It inserts a placeholder for a tensor that will be always fed.\n",
        "\n",
        "**Important**: This tensor will produce an error if evaluated. Its value must be fed using the `feed_dict` optional argument to `Session.run()`,\n",
        "`Tensor.eval()`, or `Operation.run()`. For example, for a placeholder of a matrix of floating point numbers:\n",
        "\n",
        "    x = tf.placeholder(tf.float32, shape=(1024, 1024))\n",
        "\n",
        "Here is an example for integer placeholders:"
      ]
    },
    {
      "cell_type": "code",
      "metadata": {
        "collapsed": true,
        "id": "5PaWhCmLp5lS"
      },
      "source": [
        "x = tf.placeholder(tf.int32)\n",
        "y = tf.placeholder(tf.int32)"
      ],
      "execution_count": null,
      "outputs": []
    },
    {
      "cell_type": "code",
      "metadata": {
        "id": "6tNDKk8Lp5lS",
        "outputId": "9f69ecb8-de9b-4606-f8b5-f6cd6c707df2"
      },
      "source": [
        "x"
      ],
      "execution_count": null,
      "outputs": [
        {
          "data": {
            "text/plain": [
              "<tf.Tensor 'Placeholder:0' shape=<unknown> dtype=int32>"
            ]
          },
          "execution_count": 14,
          "metadata": {},
          "output_type": "execute_result"
        }
      ]
    },
    {
      "cell_type": "code",
      "metadata": {
        "id": "G68JxH6qp5lT",
        "outputId": "7093515e-679d-4b44-a267-7168627e86c1"
      },
      "source": [
        "type(x)"
      ],
      "execution_count": null,
      "outputs": [
        {
          "data": {
            "text/plain": [
              "tensorflow.python.framework.ops.Tensor"
            ]
          },
          "execution_count": 15,
          "metadata": {},
          "output_type": "execute_result"
        }
      ]
    },
    {
      "cell_type": "markdown",
      "metadata": {
        "id": "ojfanAXEp5lU"
      },
      "source": [
        "### Defining Operations"
      ]
    },
    {
      "cell_type": "code",
      "metadata": {
        "collapsed": true,
        "id": "Q1a04Qr6p5lU"
      },
      "source": [
        "add = tf.add(x,y)\n",
        "sub = tf.subtract(x,y)\n",
        "mul = tf.multiply(x,y)"
      ],
      "execution_count": null,
      "outputs": []
    },
    {
      "cell_type": "markdown",
      "metadata": {
        "id": "IEeUCS-Xp5lU"
      },
      "source": [
        "Running operations with variable input:"
      ]
    },
    {
      "cell_type": "code",
      "metadata": {
        "collapsed": true,
        "id": "A6Z8h3K_p5lV"
      },
      "source": [
        "d = {x:20,y:30}"
      ],
      "execution_count": null,
      "outputs": []
    },
    {
      "cell_type": "code",
      "metadata": {
        "id": "9Yx2WV6Wp5lV",
        "outputId": "8ee96412-9291-4776-9d54-627dc35d3745"
      },
      "source": [
        "with tf.Session() as sess:\n",
        "    print('Operations with Constants')\n",
        "    print('Addition',sess.run(add,feed_dict=d))\n",
        "    print('Subtraction',sess.run(sub,feed_dict=d))\n",
        "    print('Multiplication',sess.run(mul,feed_dict=d))"
      ],
      "execution_count": null,
      "outputs": [
        {
          "name": "stdout",
          "output_type": "stream",
          "text": [
            "Operations with Constants\n",
            "Addition 50\n",
            "Subtraction -10\n",
            "Multiplication 600\n"
          ]
        }
      ]
    },
    {
      "cell_type": "markdown",
      "metadata": {
        "id": "j-2ujG_Jp5lV"
      },
      "source": [
        "Now let's see an example of a more complex operation, using Matrix Multiplication. First we need to create the matrices:"
      ]
    },
    {
      "cell_type": "code",
      "metadata": {
        "collapsed": true,
        "id": "ylackke9p5lW"
      },
      "source": [
        "import numpy as np\n",
        "# Make sure to use floats here, int64 will cause an error.\n",
        "a = np.array([[5.0,5.0]])\n",
        "b = np.array([[2.0],[2.0]])"
      ],
      "execution_count": null,
      "outputs": []
    },
    {
      "cell_type": "code",
      "metadata": {
        "id": "X74CVSfGp5lW",
        "outputId": "bdf0e15f-69ef-45e8-b884-d35a4e1b63cf"
      },
      "source": [
        "a"
      ],
      "execution_count": null,
      "outputs": [
        {
          "data": {
            "text/plain": [
              "array([[5., 5.]])"
            ]
          },
          "execution_count": 20,
          "metadata": {},
          "output_type": "execute_result"
        }
      ]
    },
    {
      "cell_type": "code",
      "metadata": {
        "id": "tw9ueDrYp5lW",
        "outputId": "17350355-0002-495f-8888-e1b4af8060ad"
      },
      "source": [
        "a.shape"
      ],
      "execution_count": null,
      "outputs": [
        {
          "data": {
            "text/plain": [
              "(1, 2)"
            ]
          },
          "execution_count": 21,
          "metadata": {},
          "output_type": "execute_result"
        }
      ]
    },
    {
      "cell_type": "code",
      "metadata": {
        "id": "iknOndafp5lW",
        "outputId": "061a9af8-4c39-4fb5-dfb5-ebcf8ef47e2d"
      },
      "source": [
        "b"
      ],
      "execution_count": null,
      "outputs": [
        {
          "data": {
            "text/plain": [
              "array([[2.],\n",
              "       [2.]])"
            ]
          },
          "execution_count": 22,
          "metadata": {},
          "output_type": "execute_result"
        }
      ]
    },
    {
      "cell_type": "code",
      "metadata": {
        "id": "FYKgxSXYp5lX",
        "outputId": "aef3fce8-570f-4990-af72-3bbf895bd8d0"
      },
      "source": [
        "b.shape"
      ],
      "execution_count": null,
      "outputs": [
        {
          "data": {
            "text/plain": [
              "(2, 1)"
            ]
          },
          "execution_count": 23,
          "metadata": {},
          "output_type": "execute_result"
        }
      ]
    },
    {
      "cell_type": "code",
      "metadata": {
        "collapsed": true,
        "id": "Z0ZOmn2np5lX"
      },
      "source": [
        "mat1 = tf.constant(a)"
      ],
      "execution_count": null,
      "outputs": []
    },
    {
      "cell_type": "code",
      "metadata": {
        "collapsed": true,
        "id": "vqVkBgQEp5lX"
      },
      "source": [
        "mat2 = tf.constant(b)"
      ],
      "execution_count": null,
      "outputs": []
    },
    {
      "cell_type": "markdown",
      "metadata": {
        "id": "oKN_d465p5lY"
      },
      "source": [
        "The matrix multiplication operation:"
      ]
    },
    {
      "cell_type": "code",
      "metadata": {
        "collapsed": true,
        "id": "p-9grRejp5lY"
      },
      "source": [
        "matrix_multi = tf.matmul(mat1,mat2)"
      ],
      "execution_count": null,
      "outputs": []
    },
    {
      "cell_type": "markdown",
      "metadata": {
        "id": "FYPTmQehp5lY"
      },
      "source": [
        "Now run the session to perform the Operation:"
      ]
    },
    {
      "cell_type": "code",
      "metadata": {
        "id": "ZQbbIj9Cp5lY",
        "outputId": "4e2f7387-b8bb-4808-87f7-b1cfe1692694"
      },
      "source": [
        "with tf.Session() as sess:\n",
        "    result = sess.run(matrix_multi)\n",
        "    print(result)"
      ],
      "execution_count": null,
      "outputs": [
        {
          "name": "stdout",
          "output_type": "stream",
          "text": [
            "[[20.]]\n"
          ]
        }
      ]
    },
    {
      "cell_type": "markdown",
      "metadata": {
        "id": "ubjuKSzcp5lZ"
      },
      "source": [
        "That is all for now! Next we will expand these basic concepts to construct out own Multi-Layer Perceptron model!"
      ]
    },
    {
      "cell_type": "markdown",
      "metadata": {
        "id": "92v6Ooptp5lZ"
      },
      "source": [
        "# Great Job!"
      ]
    }
  ]
}